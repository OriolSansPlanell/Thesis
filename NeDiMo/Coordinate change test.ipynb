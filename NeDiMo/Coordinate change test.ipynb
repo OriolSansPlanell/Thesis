{
 "cells": [
  {
   "cell_type": "code",
   "execution_count": 2,
   "metadata": {},
   "outputs": [],
   "source": [
    "import numpy as np\n",
    "import random\n",
    "import time\n",
    "import math\n",
    "import matplotlib.pyplot as plt"
   ]
  },
  {
   "cell_type": "code",
   "execution_count": 9,
   "metadata": {},
   "outputs": [],
   "source": [
    "def randomangle_Cone(alpha):\n",
    "    theta = (random.random()*alpha/2)\n",
    "    phi   = random.random()*2*math.pi\n",
    "    return theta,phi\n",
    "\n",
    "def randomangle_Square(alpha):\n",
    "    X = random.random() * alpha - (alpha / 2)\n",
    "    Y = random.random() * alpha - (alpha / 2)\n",
    "    return (X,Y)"
   ]
  },
  {
   "cell_type": "code",
   "execution_count": 10,
   "metadata": {},
   "outputs": [],
   "source": [
    "LD = 27.2\n",
    "alpha = 2*np.arctan(1/LD)\n",
    "histogram_theta = []\n",
    "histogram_phi = []\n",
    "for i in range(100000):\n",
    "    theta,phi = randomangle_Cone(alpha)\n",
    "    histogram_theta.append(theta)\n",
    "    histogram_phi.append(phi)"
   ]
  },
  {
   "cell_type": "code",
   "execution_count": 11,
   "metadata": {},
   "outputs": [],
   "source": [
    "def cylindric_to_cartesian(ZX,ZY):\n",
    "    phi = np.arctan(np.tan(ZY)/(np.tan(ZX)))\n",
    "    #theta = np.arctan((np.tan(ZX))*np.sqrt((((np.tan(ZY))/(np.tan(ZX)))**2)+1))\n",
    "    theta = np.arctan(np.sqrt(np.tan(ZX)**2+np.tan(ZY)**2))\n",
    "    return theta,phi\n",
    "\n",
    "def cartesian_to_cylindric(theta,phi):\n",
    "    A = np.sqrt(1+np.tan(phi)**2)\n",
    "    ZX = np.arctan(np.tan(theta)/A)\n",
    "    ZY = np.arctan(np.tan(theta)*np.tan(phi)/A)\n",
    "    return ZX,ZY"
   ]
  },
  {
   "cell_type": "code",
   "execution_count": 13,
   "metadata": {},
   "outputs": [
    {
     "name": "stdout",
     "output_type": "stream",
     "text": [
      "0.0297045280902994 1.963661166081004\n",
      "0.029704528090299196 -1.1779314875087892\n",
      "Error\n",
      "0.01755310342236302 4.523582701002033\n",
      "0.01755310342236252 1.3819900474122395\n",
      "Error\n",
      "0.03391718520746314 1.9799426643033458\n",
      "0.03391718520746302 -1.1616499892864476\n",
      "Error\n",
      "0.0006562996746378455 6.153426914594281\n",
      "0.0006562996746378456 -0.1297583925853057\n",
      "Error\n",
      "0.0165275753532596 5.677279518959315\n",
      "0.01652757535325954 -0.6059057882202714\n",
      "Error\n"
     ]
    }
   ],
   "source": [
    "for i in range(5):\n",
    "    '''\n",
    "    ZX,ZY = randomangle_Square(alpha)\n",
    "    print(ZX,ZY)\n",
    "    theta,phi = cylindric_to_cartesian(ZX,ZY)\n",
    "    ZX_1,ZY_1 = cartesian_to_cylindric(theta,phi)\n",
    "    '''\n",
    "    theta,phi = randomangle_Cone(alpha)\n",
    "    ZX,ZY = cylindric_to_cartesian(theta,phi)\n",
    "    theta_1,phi_1=cartesian_to_cylindric(ZX,ZY)\n",
    "    print(theta,phi)\n",
    "    print(theta_1,phi_1)\n",
    "    if ZX != ZX_1 or ZY!= ZY_1:\n",
    "        print(\"Error\")\n",
    "    else:\n",
    "        print(\"Success\")"
   ]
  },
  {
   "cell_type": "code",
   "execution_count": null,
   "metadata": {},
   "outputs": [],
   "source": []
  }
 ],
 "metadata": {
  "kernelspec": {
   "display_name": "Python 3",
   "language": "python",
   "name": "python3"
  },
  "language_info": {
   "codemirror_mode": {
    "name": "ipython",
    "version": 3
   },
   "file_extension": ".py",
   "mimetype": "text/x-python",
   "name": "python",
   "nbconvert_exporter": "python",
   "pygments_lexer": "ipython3",
   "version": "3.7.6"
  }
 },
 "nbformat": 4,
 "nbformat_minor": 4
}
